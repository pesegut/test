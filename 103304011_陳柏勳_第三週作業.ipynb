{
 "cells": [
  {
   "cell_type": "markdown",
   "metadata": {},
   "source": [
    "# 世紀魔鬼挑戰題"
   ]
  },
  {
   "cell_type": "markdown",
   "metadata": {},
   "source": [
    "請遵守以下規則：\n",
    "\n",
    "* 1.依照早餐-午餐-晚餐的順序決定(不能一次選完)\n",
    "* 2.餐點必須用亂數決定(不能使用choice)\n",
    "* 3.除了定義以上的list，不可以在其他地方出現字串 \n",
    "    <br />(也就是說不可以決定午餐吃'小公寓'後，另外定義dinner =   \n",
    "    ['波波恰恰', '湯饌', '享窩咖啡',...]）\n",
    "* 4.一天裡面只可以有一餐是屬於high_price\n",
    "* 5.午餐跟晚餐我不想吃同一家\n",
    "* 6.如果當天三餐都沒有屬於high_price的話，就要吃宵夜"
   ]
  },
  {
   "cell_type": "code",
   "execution_count": 21,
   "metadata": {
    "collapsed": true
   },
   "outputs": [],
   "source": [
    "%matplotlib inline\n",
    "import numpy as np\n",
    "import matplotlib.pyplot as plt"
   ]
  },
  {
   "cell_type": "code",
   "execution_count": 17,
   "metadata": {
    "collapsed": true
   },
   "outputs": [],
   "source": [
    "breakfast_list = ['古早味', '德合香', '布朗奇早餐', '星巴克', '小貓咪', '傳香飯糰', '米塔', '麥當勞', '摩斯', '7-11', '全家']\n",
    "lunch_and_dinner_list = ['小公寓', '波波恰恰', '湯饌', '享窩咖啡', '湯包', '殺人魔王', '呷麵騎士', '提洛斯', '蝴蝶漾', '東京小城', '金鰭', '樂山', 'My麵屋', '李氏餐酒館', '里克', '水煎包', '憩賢樓', '高句麗', '魯智深', '敏忠', '大正亭', '阿里郎', '鬼匠', 'Juicy Bun', '滇味廚房']\n",
    "high_price_list = ['星巴克', '摩斯', '小公寓', '享窩咖啡', '金鰭', '李氏餐酒館', '里克', 'Juicy Bun', '滇味廚房']\n",
    "snack_list = ['豆花', '政大烤場', '丐幫滷味', '鹹水雞']"
   ]
  },
  {
   "cell_type": "code",
   "execution_count": 43,
   "metadata": {},
   "outputs": [],
   "source": [
    "B = np.array(breakfast_list)\n",
    "L_D = np.array(lunch_and_dinner_list)\n",
    "H = np.array(high_price_list)\n",
    "S = np.array(snack_list)"
   ]
  },
  {
   "cell_type": "code",
   "execution_count": 245,
   "metadata": {},
   "outputs": [
    {
     "name": "stdout",
     "output_type": "stream",
     "text": [
      "早餐:傳香飯糰\n",
      "午餐:提洛斯\n",
      "晚餐:Juicy Bun\n"
     ]
    }
   ],
   "source": [
    "#決定早餐\n",
    "早餐 = B[np.random.randint(0,len(B))]\n",
    "#決定午餐\n",
    "if set([早餐])&set(H) == set():\n",
    "    午餐 = L_D[np.random.randint(0,len(L_D))]\n",
    "else:\n",
    "    午餐 = np.array(list(set(L_D)-set(H)))[np.random.randint(0,len(set(L_D)-set(H)))]\n",
    "#決定晚餐\n",
    "if set([早餐,午餐])&set(H) == set():\n",
    "    晚餐 = L_D[L_D!=午餐][np.random.randint(0,len(L_D)-1)]\n",
    "else:\n",
    "    晚餐 = np.array(list(set(L_D)-set(H)-set([午餐])))[np.random.randint(0,len(set(L_D)-set(H)-set([午餐])))]\n",
    "if set([早餐,午餐,晚餐])&set(H) == set():\n",
    "    #決定宵夜\n",
    "    宵夜 = S[np.random.randint(0,len(S))]\n",
    "    print(f'早餐:{早餐}\\n午餐:{午餐}\\n晚餐:{晚餐}\\n宵夜:{宵夜}')\n",
    "else:\n",
    "    print(f'早餐:{早餐}\\n午餐:{午餐}\\n晚餐:{晚餐}')"
   ]
  }
 ],
 "metadata": {
  "kernelspec": {
   "display_name": "Python 3",
   "language": "python",
   "name": "python3"
  },
  "language_info": {
   "codemirror_mode": {
    "name": "ipython",
    "version": 3
   },
   "file_extension": ".py",
   "mimetype": "text/x-python",
   "name": "python",
   "nbconvert_exporter": "python",
   "pygments_lexer": "ipython3",
   "version": "3.6.3"
  }
 },
 "nbformat": 4,
 "nbformat_minor": 2
}
