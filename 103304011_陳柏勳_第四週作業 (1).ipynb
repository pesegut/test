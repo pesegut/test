{
 "cells": [
  {
   "cell_type": "code",
   "execution_count": 5,
   "metadata": {
    "collapsed": true
   },
   "outputs": [],
   "source": [
    "%matplotlib inline\n",
    "import numpy as np\n",
    "import matplotlib.pyplot as plt\n",
    "from ipywidgets import interact\n",
    "from ipywidgets import interact_manual\n",
    "caculusgrades = np.random.randn(270).reshape(3,30,3)*10+70"
   ]
  },
  {
   "cell_type": "markdown",
   "metadata": {},
   "source": [
    "# Challenge Challenge魔鬼挑戰題：\n",
    "（做完可以直接得到一百分）\n",
    "<br/>\n",
    "* 將上週挑戰題一所要求的函式在10行以內寫出來"
   ]
  },
  {
   "cell_type": "code",
   "execution_count": 2,
   "metadata": {
    "collapsed": true
   },
   "outputs": [],
   "source": [
    "def student_grade(classgrade):\n",
    "    weight = np.array([[0.2,0.35,0.45],[0,0.4,0.6]])\n",
    "    return(np.nanmax(np.insert((classgrade*weight[0]).sum(axis=2),range(0,90),(classgrade*weight[1]).sum(axis=2)).reshape(3,30,2),axis=2).reshape(3,30,1))\n",
    "#作法:將兩個加權分數算出來後，同一同學的加權分數放在一起再利用amax去找較大的。"
   ]
  },
  {
   "cell_type": "code",
   "execution_count": 3,
   "metadata": {},
   "outputs": [
    {
     "data": {
      "text/plain": [
       "array([[[ 69.34431019],\n",
       "        [ 80.62653089],\n",
       "        [ 67.70667994],\n",
       "        [ 73.87912131],\n",
       "        [ 68.64055052],\n",
       "        [ 66.36140509],\n",
       "        [ 89.12669113],\n",
       "        [ 69.55584804],\n",
       "        [ 75.20994547],\n",
       "        [ 69.14856973],\n",
       "        [ 76.78364091],\n",
       "        [ 65.05002063],\n",
       "        [ 71.55128882],\n",
       "        [ 61.80040787],\n",
       "        [ 59.56082781],\n",
       "        [ 68.45921819],\n",
       "        [ 72.32455287],\n",
       "        [ 73.68548859],\n",
       "        [ 72.40529562],\n",
       "        [ 64.99078937],\n",
       "        [ 59.04669858],\n",
       "        [ 71.75264421],\n",
       "        [ 74.70499591],\n",
       "        [ 65.14586985],\n",
       "        [ 81.35939946],\n",
       "        [ 66.15839928],\n",
       "        [ 59.72922499],\n",
       "        [ 87.45865676],\n",
       "        [ 66.71859491],\n",
       "        [ 74.92698566]],\n",
       "\n",
       "       [[ 59.18527612],\n",
       "        [ 76.73348219],\n",
       "        [ 66.14137571],\n",
       "        [ 78.11786629],\n",
       "        [ 75.38268593],\n",
       "        [ 88.92314139],\n",
       "        [ 75.10496275],\n",
       "        [ 63.59890373],\n",
       "        [ 60.87650424],\n",
       "        [ 69.04740139],\n",
       "        [ 71.68046047],\n",
       "        [ 76.08854572],\n",
       "        [ 82.02659971],\n",
       "        [ 72.0866907 ],\n",
       "        [ 86.37476516],\n",
       "        [ 66.12363863],\n",
       "        [ 69.97690028],\n",
       "        [ 72.2278795 ],\n",
       "        [ 68.87139451],\n",
       "        [ 65.73329257],\n",
       "        [ 76.58794027],\n",
       "        [ 71.44847178],\n",
       "        [ 81.38344375],\n",
       "        [ 76.12399988],\n",
       "        [ 63.78797303],\n",
       "        [ 78.89498417],\n",
       "        [ 70.05762159],\n",
       "        [ 75.06082672],\n",
       "        [ 83.24081594],\n",
       "        [ 65.50054873]],\n",
       "\n",
       "       [[ 77.98522794],\n",
       "        [ 59.94874523],\n",
       "        [ 70.55797612],\n",
       "        [ 66.4403151 ],\n",
       "        [ 71.46625707],\n",
       "        [ 62.06130558],\n",
       "        [ 77.32096727],\n",
       "        [ 69.46045205],\n",
       "        [ 78.81442479],\n",
       "        [ 69.6319368 ],\n",
       "        [ 82.70575823],\n",
       "        [ 67.21541936],\n",
       "        [ 71.54476139],\n",
       "        [ 75.21746225],\n",
       "        [ 64.14817123],\n",
       "        [ 81.90608445],\n",
       "        [ 69.69154018],\n",
       "        [ 72.72729262],\n",
       "        [ 70.26410321],\n",
       "        [ 66.87011846],\n",
       "        [ 71.56540445],\n",
       "        [ 72.00640367],\n",
       "        [ 70.47986486],\n",
       "        [ 67.63127747],\n",
       "        [ 65.11568664],\n",
       "        [ 68.48691231],\n",
       "        [ 69.12086255],\n",
       "        [ 62.4645412 ],\n",
       "        [ 68.12371392],\n",
       "        [ 70.3450185 ]]])"
      ]
     },
     "execution_count": 3,
     "metadata": {},
     "output_type": "execute_result"
    }
   ],
   "source": [
    "student_grade(caculusgrades)"
   ]
  },
  {
   "cell_type": "markdown",
   "metadata": {},
   "source": [
    "# 第一題：抽點系統\n",
    "\n",
    "* 老師想做一個抽點系統, 也就是按一個鍵就抽一位同學出來。某班同學有大雄、胖虎、小夫、宜靜、小杉。\n",
    "\n",
    "* 請幫老師寫個點名系統。\n",
    "\n",
    "* Hint\n",
    "* interact_manual 用到的函數可以不用有任何參數\n",
    "* np.random.choice 會從一個 list 隨機取一個元素出來"
   ]
  },
  {
   "cell_type": "code",
   "execution_count": 9,
   "metadata": {},
   "outputs": [
    {
     "data": {
      "application/vnd.jupyter.widget-view+json": {
       "model_id": "f17a7984a1684f889af51adc91c489e8"
      }
     },
     "metadata": {},
     "output_type": "display_data"
    },
    {
     "data": {
      "text/plain": [
       "<function __main__.select>"
      ]
     },
     "execution_count": 9,
     "metadata": {},
     "output_type": "execute_result"
    }
   ],
   "source": [
    "def select():\n",
    "    student=np.array(['大雄','胖虎','小夫','宜靜','小杉'])\n",
    "    s=np.random.choice(student,size=1)\n",
    "    print(f\"抽到的是:{s[0]}\")\n",
    "interact_manual(select)"
   ]
  },
  {
   "cell_type": "markdown",
   "metadata": {},
   "source": [
    "# 第二題：變長變短\n",
    "* 做一個數值滑桿, 數字變大某個 bar 就變長或變短。\n",
    "* bar = \"■\""
   ]
  },
  {
   "cell_type": "code",
   "execution_count": 11,
   "metadata": {},
   "outputs": [
    {
     "data": {
      "application/vnd.jupyter.widget-view+json": {
       "model_id": "62705f940b544fb4a8ba89c983ead65f"
      }
     },
     "metadata": {},
     "output_type": "display_data"
    },
    {
     "data": {
      "text/plain": [
       "<function __main__.bar>"
      ]
     },
     "execution_count": 11,
     "metadata": {},
     "output_type": "execute_result"
    }
   ],
   "source": [
    "def bar(x):\n",
    "    print(x*\"■ \")\n",
    "interact(bar,x=(1,100))"
   ]
  },
  {
   "cell_type": "markdown",
   "metadata": {},
   "source": [
    "# 第三題：考試加權分數\n",
    "小明今年考大學\n",
    "<br/>依照 [國, 英, 數甲, 數乙, 物, 化, 生, 歷, 地, 公]<br/>\n",
    "<br/>他的分數分別是 [86.5, 79.4, 88.2, 96.5, 86.3, 76.8, 96.1, 78.5, 82.4, 88.6]<br/>\n",
    "<br/>而他所想申請的大學各系採計的科目權重分別是<br/>\n",
    "<br/>{<br/>\n",
    "<br/>\"土語系\": [2, 2, 0, 1, 0, 0, 0, 1, 1, 0],<br/>\n",
    "<br/>\"財政系\": [1, 1.5, 0, 1.5, 0, 0, 0, 0, 0, 0],<br/>\n",
    "<br/>\"金融系\": [1, 1.5, 0, 2, 0, 0, 0, 0, 0, 0],<br/>\n",
    "<br/>\"國貿系\": [1.5, 2, 0, 2, 0, 0, 0, 0, 0, 0],<br/>\n",
    "<br/>\"會計系\": [1.5, 2, 0, 2, 0, 0, 0, 1, 1, 0],<br/>\n",
    "<br/>\"法律系\": [1, 2, 0, 1, 0, 0, 0, 1, 0, 1],<br/>\n",
    "<br/>\"公行系\": [1, 1.5, 0, 1.25, 0, 0, 0, 0, 0, 1.25],<br/>\n",
    "<br/>\"應數系\": [1, 1, 1.5, 0, 1, 1, 0, 0, 0, 0],<br/>\n",
    "<br/>\"教育系\": [1.5, 2, 0, 1.25, 0, 0, 0, 1, 1, 0]<br/>\n",
    "<br/>} <br/>\n",
    "\n",
    "<br/>請幫他做出一個互動介面<br/>\n",
    "<br/>讓他在選擇科系後可以看到他的加權分數<br/>\n",
    "<br/>取到小數點後第一位<br/>"
   ]
  },
  {
   "cell_type": "code",
   "execution_count": 44,
   "metadata": {},
   "outputs": [
    {
     "data": {
      "application/vnd.jupyter.widget-view+json": {
       "model_id": "39d28c5550714d0d8ecb8e474eadcd80"
      }
     },
     "metadata": {},
     "output_type": "display_data"
    },
    {
     "data": {
      "text/plain": [
       "<function __main__.selects>"
      ]
     },
     "execution_count": 44,
     "metadata": {},
     "output_type": "execute_result"
    }
   ],
   "source": [
    "def selects(科系):\n",
    "    小明的分數= [86.5, 79.4, 88.2, 96.5, 86.3, 76.8, 96.1, 78.5, 82.4, 88.6]\n",
    "    科系加權={\n",
    "    \"土語系\": [2, 2, 0, 1, 0, 0, 0, 1, 1, 0],\n",
    "    \"財政系\": [1, 1.5, 0, 1.5, 0, 0, 0, 0, 0, 0],\n",
    "    \"金融系\": [1, 1.5, 0, 2, 0, 0, 0, 0, 0, 0],\n",
    "    \"國貿系\": [1.5, 2, 0, 2, 0, 0, 0, 0, 0, 0],\n",
    "    \"會計系\": [1.5, 2, 0, 2, 0, 0, 0, 1, 1, 0],\n",
    "    \"法律系\": [1, 2, 0, 1, 0, 0, 0, 1, 0, 1],\n",
    "    \"公行系\": [1, 1.5, 0, 1.25, 0, 0, 0, 0, 0, 1.25],\n",
    "    \"應數系\": [1, 1, 1.5, 0, 1, 1, 0, 0, 0, 0],\n",
    "    \"教育系\": [1.5, 2, 0, 1.25, 0, 0, 0, 1, 1, 0]\n",
    "    }\n",
    "    print(\"{} 加權分數分數為:{:.1f}\".format(科系,np.dot(小明的分數,np.array(科系加權[科系]))))\n",
    "option=[\"土語系\",\"財政系\",\"金融系\",\"國貿系\",\"會計系\",\"法律系\",\"公行系\",\"應數系\",\"教育系\"]\n",
    "interact(selects,科系=option)"
   ]
  }
 ],
 "metadata": {
  "kernelspec": {
   "display_name": "Python 3",
   "language": "python",
   "name": "python3"
  },
  "language_info": {
   "codemirror_mode": {
    "name": "ipython",
    "version": 3
   },
   "file_extension": ".py",
   "mimetype": "text/x-python",
   "name": "python",
   "nbconvert_exporter": "python",
   "pygments_lexer": "ipython3",
   "version": "3.6.3"
  }
 },
 "nbformat": 4,
 "nbformat_minor": 2
}
