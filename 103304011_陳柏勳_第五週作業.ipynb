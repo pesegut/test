{
 "cells": [
  {
   "cell_type": "code",
   "execution_count": 1,
   "metadata": {
    "collapsed": true
   },
   "outputs": [],
   "source": [
    "%matplotlib inline\n",
    "import numpy as np\n",
    "import matplotlib.pyplot as plt\n",
    "import pandas as pd"
   ]
  },
  {
   "cell_type": "markdown",
   "metadata": {},
   "source": [
    "# 挑戰題一_Bubble Sort\n",
    "Geoffrey是個喜歡自動化的老師，某次期中考過後，他想要把學生的成績用電腦自動排序，於是他請Andrew幫忙開發這個高難度的程式…\n",
    "\n",
    "限制：不可以使用Python內建的sort()\n",
    "\n",
    "提示：\n",
    "\n",
    "* 每回合都把該回合範圍內最小的數搬到最左邊，最後就可以排好所有的數\n",
    "* 搬運的方式可以透過兩兩互換"
   ]
  },
  {
   "cell_type": "code",
   "execution_count": 19,
   "metadata": {},
   "outputs": [],
   "source": [
    "test1 = np.random.randint(1,100,size = 10) # 測試資料"
   ]
  },
  {
   "cell_type": "code",
   "execution_count": 20,
   "metadata": {},
   "outputs": [
    {
     "data": {
      "text/plain": [
       "array([49, 49, 49, 54, 54, 54, 96, 96, 96, 99])"
      ]
     },
     "execution_count": 20,
     "metadata": {},
     "output_type": "execute_result"
    }
   ],
   "source": [
    "def B_S(arr): # 輸入資料須為array \n",
    "    for i in range(len(arr)):\n",
    "        for j in range(i):\n",
    "            if(arr[j]>arr[j+1]):\n",
    "                arr[j+1]=arr[j]\n",
    "    return(arr)\n",
    "B_S(test1)"
   ]
  },
  {
   "cell_type": "markdown",
   "metadata": {},
   "source": [
    "# 第一題_算閏年：\n",
    "請定義一個函式，讀進一個年份，輸出是不是閏年。\n",
    "\n",
    "提示：\n",
    "目前使用的格里高利曆閏年規則如下：\n",
    "\n",
    "* 4的倍數是可能的。\n",
    "* 100的倍數是不可能的。\n",
    "* 400的倍數是可能的。"
   ]
  },
  {
   "cell_type": "code",
   "execution_count": 27,
   "metadata": {},
   "outputs": [
    {
     "name": "stdout",
     "output_type": "stream",
     "text": [
      "2400 是閏年。\n"
     ]
    }
   ],
   "source": [
    "def isLY(year):\n",
    "    if(year%4==0):\n",
    "        if(year%100==0):\n",
    "            if(year%400==0):\n",
    "                print(f\"{year} 是閏年。\")\n",
    "            else:\n",
    "                print(f\"{year} 不是閏年。\")\n",
    "        else:\n",
    "            print(f\"{year} 是閏年。\")\n",
    "    else:\n",
    "        print(f\"{year} 不是閏年。\")\n",
    "isLY(2400)"
   ]
  },
  {
   "cell_type": "markdown",
   "metadata": {},
   "source": [
    "# 第二題_請實作五乘五矩陣的矩陣加法函式："
   ]
  },
  {
   "cell_type": "code",
   "execution_count": 61,
   "metadata": {},
   "outputs": [
    {
     "name": "stdout",
     "output_type": "stream",
     "text": [
      "m1:\n",
      " [[39 65 41 65 75]\n",
      " [90  2 25 88  5]\n",
      " [45 73 14 25 75]\n",
      " [64 82 27 57  5]\n",
      " [52 99 82  7 96]] \n",
      "\n",
      "m2:\n",
      " [[ 7 22 72 81 95]\n",
      " [16 21 51 32 77]\n",
      " [14 56  3 66 27]\n",
      " [21 48 98 72  8]\n",
      " [36 62 59  9 98]]\n"
     ]
    }
   ],
   "source": [
    "m1 = np.random.randint(1,100, size=(5,5))\n",
    "m2 = np.random.randint(1,100, size=(5,5)) \n",
    "print(\"m1:\\n\",m1,\"\\n\\nm2:\\n\",m2)"
   ]
  },
  {
   "cell_type": "code",
   "execution_count": 62,
   "metadata": {},
   "outputs": [
    {
     "data": {
      "text/plain": [
       "array([[  46.,   87.,  113.,  146.,  170.],\n",
       "       [ 106.,   23.,   76.,  120.,   82.],\n",
       "       [  59.,  129.,   17.,   91.,  102.],\n",
       "       [  85.,  130.,  125.,  129.,   13.],\n",
       "       [  88.,  161.,  141.,   16.,  194.]])"
      ]
     },
     "execution_count": 62,
     "metadata": {},
     "output_type": "execute_result"
    }
   ],
   "source": [
    "def matrix_plus(m1,m2): # m1 m2 需為array\n",
    "    matrix_p = np.zeros((5,5))\n",
    "    for i in range(5):\n",
    "        for j in range(5):\n",
    "            matrix_p[i][j] = m1[i][j] + m2[i][j]\n",
    "    return(matrix_p)\n",
    "matrix_plus(m1,m2)"
   ]
  },
  {
   "cell_type": "markdown",
   "metadata": {},
   "source": [
    "# 第三題_錄取分數表格\n",
    "小明今年考大學\n",
    "<br/>依照 [國, 英, 數甲, 數乙, 物, 化, 生, 歷, 地, 公]<br/>\n",
    "<br/>他的分數分別是 [86.5, 79.4, 88.2, 96.5, 86.3, 76.8, 96.1, 78.5, 82.4, 88.6]<br/>\n",
    "<br/>而他所想申請的大學各系採計的科目權重分別是<br/>\n",
    "<br/>{<br/>\n",
    "<br/>\"土語系\": [2, 2, 0, 1, 0, 0, 0, 1, 1, 0],<br/>\n",
    "<br/>\"財政系\": [1, 1.5, 0, 1.5, 0, 0, 0, 0, 0, 0],<br/>\n",
    "<br/>\"金融系\": [1, 1.5, 0, 2, 0, 0, 0, 0, 0, 0],<br/>\n",
    "<br/>\"國貿系\": [1.5, 2, 0, 2, 0, 0, 0, 0, 0, 0],<br/>\n",
    "<br/>\"會計系\": [1.5, 2, 0, 2, 0, 0, 0, 1, 1, 0],<br/>\n",
    "<br/>\"法律系\": [1, 2, 0, 1, 0, 0, 0, 1, 0, 1],<br/>\n",
    "<br/>\"公行系\": [1, 1.5, 0, 1.25, 0, 0, 0, 0, 0, 1.25],<br/>\n",
    "<br/>\"應數系\": [1, 1, 1.5, 0, 1, 1, 0, 0, 0, 0],<br/>\n",
    "<br/>\"教育系\": [1.5, 2, 0, 1.25, 0, 0, 0, 1, 1, 0]<br/>\n",
    "<br/>} <br/>\n",
    "\n",
    "\n",
    "<br/>請幫他做出一個表格<br/>\n",
    "<br/>第一欄顯示科系<br/>\n",
    "<br/>接下來顯示權重 並標示科目<br/>\n",
    "<br/>最後一欄顯示加權分數<br/>"
   ]
  },
  {
   "cell_type": "code",
   "execution_count": 120,
   "metadata": {},
   "outputs": [
    {
     "data": {
      "text/html": [
       "<div>\n",
       "<style>\n",
       "    .dataframe thead tr:only-child th {\n",
       "        text-align: right;\n",
       "    }\n",
       "\n",
       "    .dataframe thead th {\n",
       "        text-align: left;\n",
       "    }\n",
       "\n",
       "    .dataframe tbody tr th {\n",
       "        vertical-align: top;\n",
       "    }\n",
       "</style>\n",
       "<table border=\"1\" class=\"dataframe\">\n",
       "  <thead>\n",
       "    <tr style=\"text-align: right;\">\n",
       "      <th></th>\n",
       "      <th>國文</th>\n",
       "      <th>英文</th>\n",
       "      <th>數甲</th>\n",
       "      <th>數乙</th>\n",
       "      <th>物理</th>\n",
       "      <th>化學</th>\n",
       "      <th>生物</th>\n",
       "      <th>歷史</th>\n",
       "      <th>地理</th>\n",
       "      <th>公民</th>\n",
       "      <th>加權分數</th>\n",
       "    </tr>\n",
       "  </thead>\n",
       "  <tbody>\n",
       "    <tr>\n",
       "      <th>土語系</th>\n",
       "      <td>2.0</td>\n",
       "      <td>2.0</td>\n",
       "      <td>0.0</td>\n",
       "      <td>1.00</td>\n",
       "      <td>0</td>\n",
       "      <td>0</td>\n",
       "      <td>0</td>\n",
       "      <td>1</td>\n",
       "      <td>1</td>\n",
       "      <td>0.00</td>\n",
       "      <td>589.200</td>\n",
       "    </tr>\n",
       "    <tr>\n",
       "      <th>財政系</th>\n",
       "      <td>1.0</td>\n",
       "      <td>1.5</td>\n",
       "      <td>0.0</td>\n",
       "      <td>1.50</td>\n",
       "      <td>0</td>\n",
       "      <td>0</td>\n",
       "      <td>0</td>\n",
       "      <td>0</td>\n",
       "      <td>0</td>\n",
       "      <td>0.00</td>\n",
       "      <td>350.350</td>\n",
       "    </tr>\n",
       "    <tr>\n",
       "      <th>金融系</th>\n",
       "      <td>1.0</td>\n",
       "      <td>1.5</td>\n",
       "      <td>0.0</td>\n",
       "      <td>2.00</td>\n",
       "      <td>0</td>\n",
       "      <td>0</td>\n",
       "      <td>0</td>\n",
       "      <td>0</td>\n",
       "      <td>0</td>\n",
       "      <td>0.00</td>\n",
       "      <td>398.600</td>\n",
       "    </tr>\n",
       "    <tr>\n",
       "      <th>國貿系</th>\n",
       "      <td>1.5</td>\n",
       "      <td>2.0</td>\n",
       "      <td>0.0</td>\n",
       "      <td>2.00</td>\n",
       "      <td>0</td>\n",
       "      <td>0</td>\n",
       "      <td>0</td>\n",
       "      <td>0</td>\n",
       "      <td>0</td>\n",
       "      <td>0.00</td>\n",
       "      <td>481.550</td>\n",
       "    </tr>\n",
       "    <tr>\n",
       "      <th>會計系</th>\n",
       "      <td>1.5</td>\n",
       "      <td>2.0</td>\n",
       "      <td>0.0</td>\n",
       "      <td>2.00</td>\n",
       "      <td>0</td>\n",
       "      <td>0</td>\n",
       "      <td>0</td>\n",
       "      <td>1</td>\n",
       "      <td>1</td>\n",
       "      <td>0.00</td>\n",
       "      <td>642.450</td>\n",
       "    </tr>\n",
       "    <tr>\n",
       "      <th>法律系</th>\n",
       "      <td>1.0</td>\n",
       "      <td>2.0</td>\n",
       "      <td>0.0</td>\n",
       "      <td>1.00</td>\n",
       "      <td>0</td>\n",
       "      <td>0</td>\n",
       "      <td>0</td>\n",
       "      <td>1</td>\n",
       "      <td>0</td>\n",
       "      <td>1.00</td>\n",
       "      <td>508.900</td>\n",
       "    </tr>\n",
       "    <tr>\n",
       "      <th>公行系</th>\n",
       "      <td>1.0</td>\n",
       "      <td>1.5</td>\n",
       "      <td>0.0</td>\n",
       "      <td>1.25</td>\n",
       "      <td>0</td>\n",
       "      <td>0</td>\n",
       "      <td>0</td>\n",
       "      <td>0</td>\n",
       "      <td>0</td>\n",
       "      <td>1.25</td>\n",
       "      <td>436.975</td>\n",
       "    </tr>\n",
       "    <tr>\n",
       "      <th>應數系</th>\n",
       "      <td>1.0</td>\n",
       "      <td>1.0</td>\n",
       "      <td>1.5</td>\n",
       "      <td>0.00</td>\n",
       "      <td>1</td>\n",
       "      <td>1</td>\n",
       "      <td>0</td>\n",
       "      <td>0</td>\n",
       "      <td>0</td>\n",
       "      <td>0.00</td>\n",
       "      <td>461.300</td>\n",
       "    </tr>\n",
       "    <tr>\n",
       "      <th>教育系</th>\n",
       "      <td>1.5</td>\n",
       "      <td>2.0</td>\n",
       "      <td>0.0</td>\n",
       "      <td>1.25</td>\n",
       "      <td>0</td>\n",
       "      <td>0</td>\n",
       "      <td>0</td>\n",
       "      <td>1</td>\n",
       "      <td>1</td>\n",
       "      <td>0.00</td>\n",
       "      <td>570.075</td>\n",
       "    </tr>\n",
       "  </tbody>\n",
       "</table>\n",
       "</div>"
      ],
      "text/plain": [
       "      國文   英文   數甲    數乙  物理  化學  生物  歷史  地理    公民     加權分數\n",
       "土語系  2.0  2.0  0.0  1.00   0   0   0   1   1  0.00  589.200\n",
       "財政系  1.0  1.5  0.0  1.50   0   0   0   0   0  0.00  350.350\n",
       "金融系  1.0  1.5  0.0  2.00   0   0   0   0   0  0.00  398.600\n",
       "國貿系  1.5  2.0  0.0  2.00   0   0   0   0   0  0.00  481.550\n",
       "會計系  1.5  2.0  0.0  2.00   0   0   0   1   1  0.00  642.450\n",
       "法律系  1.0  2.0  0.0  1.00   0   0   0   1   0  1.00  508.900\n",
       "公行系  1.0  1.5  0.0  1.25   0   0   0   0   0  1.25  436.975\n",
       "應數系  1.0  1.0  1.5  0.00   1   1   0   0   0  0.00  461.300\n",
       "教育系  1.5  2.0  0.0  1.25   0   0   0   1   1  0.00  570.075"
      ]
     },
     "execution_count": 120,
     "metadata": {},
     "output_type": "execute_result"
    }
   ],
   "source": [
    "小明的分數= [86.5, 79.4, 88.2, 96.5, 86.3, 76.8, 96.1, 78.5, 82.4, 88.6]\n",
    "科系加權={\n",
    "\"土語系\": [2, 2, 0, 1, 0, 0, 0, 1, 1, 0],\n",
    "\"財政系\": [1, 1.5, 0, 1.5, 0, 0, 0, 0, 0, 0],\n",
    "\"金融系\": [1, 1.5, 0, 2, 0, 0, 0, 0, 0, 0],\n",
    "\"國貿系\": [1.5, 2, 0, 2, 0, 0, 0, 0, 0, 0],\n",
    "\"會計系\": [1.5, 2, 0, 2, 0, 0, 0, 1, 1, 0],\n",
    "\"法律系\": [1, 2, 0, 1, 0, 0, 0, 1, 0, 1],\n",
    "\"公行系\": [1, 1.5, 0, 1.25, 0, 0, 0, 0, 0, 1.25],\n",
    "\"應數系\": [1, 1, 1.5, 0, 1, 1, 0, 0, 0, 0],\n",
    "\"教育系\": [1.5, 2, 0, 1.25, 0, 0, 0, 1, 1, 0]\n",
    "}\n",
    "\n",
    "for i in 科系加權:\n",
    "    科系加權[i].append(np.dot(np.array(科系加權[i]),np.array(小明的分數)))\n",
    "\n",
    "columns = [\"國文\", \"英文\", \"數甲\", \"數乙\", \"物理\"\n",
    "         , \"化學\", \"生物\", \"歷史\", \"地理\", \"公民\",\"加權分數\"]\n",
    "\n",
    "df = pd.DataFrame.from_dict(科系加權,orient='index')\n",
    "df.columns = columns\n",
    "df"
   ]
  }
 ],
 "metadata": {
  "kernelspec": {
   "display_name": "Python 3",
   "language": "python",
   "name": "python3"
  },
  "language_info": {
   "codemirror_mode": {
    "name": "ipython",
    "version": 3
   },
   "file_extension": ".py",
   "mimetype": "text/x-python",
   "name": "python",
   "nbconvert_exporter": "python",
   "pygments_lexer": "ipython3",
   "version": "3.6.3"
  }
 },
 "nbformat": 4,
 "nbformat_minor": 2
}
